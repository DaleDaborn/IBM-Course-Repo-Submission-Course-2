{
 "cells": [
  {
   "cell_type": "markdown",
   "id": "ffd7f062-da77-457d-b519-67a034e21b6b",
   "metadata": {},
   "source": [
    "# Data Science Tools and Ecosytem"
   ]
  },
  {
   "cell_type": "markdown",
   "id": "f46c15f2-b07c-493e-8fd5-32b51904bd26",
   "metadata": {},
   "source": [
    "In this notebook, we are going to really kick some statistics in the ass"
   ]
  },
  {
   "cell_type": "markdown",
   "id": "3b9e99a9-cbfe-4718-9dc2-8750468e3b7e",
   "metadata": {},
   "source": [
    "Some of the popular languages that Data Scientists use are: \n",
    "1. R\n",
    "2. Python\n",
    "3. C++"
   ]
  },
  {
   "cell_type": "markdown",
   "id": "4eb0eba4-656f-4ee1-8b64-934631c5c388",
   "metadata": {},
   "source": [
    "| Data Science Tools |\n",
    "| ------ |\n",
    "|R|\n",
    "|Python|\n",
    "|C++|"
   ]
  },
  {
   "cell_type": "markdown",
   "id": "c5a48fae-2fdf-479a-a29c-fcad6813abf6",
   "metadata": {},
   "source": [
    "### Below are a few examples of evaluating arithetic experinces in Python"
   ]
  },
  {
   "cell_type": "code",
   "execution_count": 5,
   "id": "7f8de459-033d-4a15-b15c-99f6b8452d5d",
   "metadata": {},
   "outputs": [
    {
     "name": "stdout",
     "output_type": "stream",
     "text": [
      "3.3333333333333335\n"
     ]
    }
   ],
   "source": [
    "# This will convert 200 minutes to hours by dividing by 60\n",
    "minutes = 200\n",
    "hours = (minutes/60)\n",
    "print (hours)"
   ]
  },
  {
   "cell_type": "markdown",
   "id": "ad095a00-c28a-40eb-965a-e4c4e0118969",
   "metadata": {},
   "source": [
    "__Objectives__\n",
    "- Use of H1 headings\n",
    "- Simple calculations\n",
    "- Creating tables\n",
    "- Listing languages\n"
   ]
  }
 ],
 "metadata": {
  "kernelspec": {
   "display_name": "Python 3 (ipykernel)",
   "language": "python",
   "name": "python3"
  },
  "language_info": {
   "codemirror_mode": {
    "name": "ipython",
    "version": 3
   },
   "file_extension": ".py",
   "mimetype": "text/x-python",
   "name": "python",
   "nbconvert_exporter": "python",
   "pygments_lexer": "ipython3",
   "version": "3.11.7"
  }
 },
 "nbformat": 4,
 "nbformat_minor": 5
}
